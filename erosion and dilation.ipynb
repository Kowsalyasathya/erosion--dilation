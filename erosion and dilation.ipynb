import cv2
import matplotlib.pyplot as plt

# Display the image using matplotlib
plt.figure(figsize=(10, 5))

# Convert BGR (OpenCV format) to RGB (matplotlib format)
image_rgb = cv2.cvtColor(image, cv2.COLOR_BGR2RGB)
eroded_image_rgb = cv2.cvtColor(eroded_image, cv2.COLOR_BGR2RGB)
dilated_image_rgb = cv2.cvtColor(dilated_image, cv2.COLOR_BGR2RGB)

# Plot images
plt.subplot(1, 3, 1)
plt.imshow(image_rgb)
plt.title('Input Image')

plt.subplot(1, 3, 2)
plt.imshow(eroded_image_rgb)
plt.title('Eroded Image')

plt.subplot(1, 3, 3)
plt.imshow(dilated_image_rgb)
plt.title('Dilated Image')

plt.show()
